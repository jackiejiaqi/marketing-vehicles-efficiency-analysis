{
 "cells": [
  {
   "cell_type": "code",
   "execution_count": 5,
   "metadata": {},
   "outputs": [
    {
     "name": "stdout",
     "output_type": "stream",
     "text": [
      "Collecting pandas\n",
      "  Downloading pandas-2.0.0-cp311-cp311-macosx_10_9_x86_64.whl (11.6 MB)\n",
      "\u001b[2K     \u001b[90m━━━━━━━━━━━━━━━━━━━━━━━━━━━━━━━━━━━━━━━━\u001b[0m \u001b[32m11.6/11.6 MB\u001b[0m \u001b[31m4.4 MB/s\u001b[0m eta \u001b[36m0:00:00\u001b[0m00:01\u001b[0m00:01\u001b[0m\n",
      "\u001b[?25hRequirement already satisfied: python-dateutil>=2.8.2 in ./.conda/lib/python3.11/site-packages (from pandas) (2.8.2)\n",
      "Collecting pytz>=2020.1\n",
      "  Downloading pytz-2023.3-py2.py3-none-any.whl (502 kB)\n",
      "\u001b[2K     \u001b[90m━━━━━━━━━━━━━━━━━━━━━━━━━━━━━━━━━━━━━━━\u001b[0m \u001b[32m502.3/502.3 kB\u001b[0m \u001b[31m8.9 MB/s\u001b[0m eta \u001b[36m0:00:00\u001b[0m00:01\u001b[0m\n",
      "\u001b[?25hCollecting tzdata>=2022.1\n",
      "  Downloading tzdata-2023.3-py2.py3-none-any.whl (341 kB)\n",
      "\u001b[2K     \u001b[90m━━━━━━━━━━━━━━━━━━━━━━━━━━━━━━━━━━━━━━━\u001b[0m \u001b[32m341.8/341.8 kB\u001b[0m \u001b[31m7.0 MB/s\u001b[0m eta \u001b[36m0:00:00\u001b[0m00:01\u001b[0m\n",
      "\u001b[?25hCollecting numpy>=1.21.0\n",
      "  Downloading numpy-1.24.2-cp311-cp311-macosx_10_9_x86_64.whl (19.8 MB)\n",
      "\u001b[2K     \u001b[90m━━━━━━━━━━━━━━━━━━━━━━━━━━━━━━━━━━━━━━━━\u001b[0m \u001b[32m19.8/19.8 MB\u001b[0m \u001b[31m11.4 MB/s\u001b[0m eta \u001b[36m0:00:00\u001b[0m00:01\u001b[0m00:01\u001b[0m\n",
      "\u001b[?25hRequirement already satisfied: six>=1.5 in ./.conda/lib/python3.11/site-packages (from python-dateutil>=2.8.2->pandas) (1.16.0)\n",
      "Installing collected packages: pytz, tzdata, numpy, pandas\n",
      "Successfully installed numpy-1.24.2 pandas-2.0.0 pytz-2023.3 tzdata-2023.3\n",
      "Note: you may need to restart the kernel to use updated packages.\n"
     ]
    }
   ],
   "source": [
    "pip install pandas "
   ]
  },
  {
   "cell_type": "code",
   "execution_count": 3,
   "metadata": {},
   "outputs": [],
   "source": [
    "import pandas as pd\n",
    "import numpy as np\n",
    "from sklearn.linear_model import LinearRegression, Ridge\n",
    "from sklearn.model_selection import train_test_split\n",
    "from sklearn.metrics import r2_score\n",
    "from sklearn.preprocessing import StandardScaler\n",
    "import math\n",
    "from sklearn.metrics import mean_squared_error"
   ]
  },
  {
   "cell_type": "code",
   "execution_count": 4,
   "metadata": {},
   "outputs": [],
   "source": [
    "df = pd.read_csv(\"/Users/richardhuang/Documents/FinalDF (1).csv\") # product 93\n",
    "df_92 = pd.read_csv(\"/Users/richardhuang/Documents/Final92DF.csv\") # product 92"
   ]
  },
  {
   "cell_type": "code",
   "execution_count": 5,
   "metadata": {},
   "outputs": [
    {
     "data": {
      "text/plain": [
       "Index(['year_week', 'prod_id', 'sales_qty', 'price', 'seas_index', 'Christmas',\n",
       "       'Easter', 'Halloween', 'Labor Day', 'Memorial Day', 'National Day',\n",
       "       'New Year', 'Pre Easter', 'Pre Super Bowl', 'Super Bowl',\n",
       "       'Display_Amount', 'Facebook_Banner_Amount', 'Flyer_Amount',\n",
       "       'Google_Paid_Search_Amount', 'Radio_Amount', 'TV_Amount',\n",
       "       'Display_Cost', 'Facebook_Banner_Cost', 'Flyer_Cost',\n",
       "       'Google_Paid_Search_Cost', 'Radio_Cost', 'TV_Cost', 'reach_radio',\n",
       "       'reach_tv'],\n",
       "      dtype='object')"
      ]
     },
     "execution_count": 5,
     "metadata": {},
     "output_type": "execute_result"
    }
   ],
   "source": [
    "df.columns"
   ]
  },
  {
   "cell_type": "code",
   "execution_count": 6,
   "metadata": {},
   "outputs": [],
   "source": [
    "# Dataframe to calcualate cost\n",
    "df_cost = df.copy()\n",
    "df_92_cost = df_92.copy()"
   ]
  },
  {
   "cell_type": "code",
   "execution_count": 7,
   "metadata": {},
   "outputs": [],
   "source": [
    "df = df.loc[:,['sales_qty', 'price', 'seas_index', 'Christmas',\n",
    "       'Easter', 'Halloween', 'Labor Day', 'Memorial Day', 'National Day',\n",
    "       'New Year', 'Pre Easter', 'Pre Super Bowl', 'Super Bowl',\n",
    "       'Display_Amount', 'Facebook_Banner_Amount', 'Flyer_Amount',\n",
    "       'Google_Paid_Search_Amount','reach_radio','reach_tv']]\n",
    "\n",
    "df_92 = df_92.loc[:,['sales_qty', 'price', 'seas_index', 'Christmas',\n",
    "       'Easter', 'Halloween', 'Labor Day', 'Memorial Day', 'National Day',\n",
    "       'New Year', 'Pre Easter', 'Pre Super Bowl', 'Super Bowl',\n",
    "       'Display_Amount', 'Facebook_Banner_Amount', 'Flyer_Amount',\n",
    "       'Google_Paid_Search_Amount','reach_radio','reach_tv']]"
   ]
  },
  {
   "cell_type": "code",
   "execution_count": 8,
   "metadata": {},
   "outputs": [
    {
     "data": {
      "text/plain": [
       "(100, 19)"
      ]
     },
     "execution_count": 8,
     "metadata": {},
     "output_type": "execute_result"
    }
   ],
   "source": [
    "df.shape"
   ]
  },
  {
   "cell_type": "code",
   "execution_count": 9,
   "metadata": {},
   "outputs": [],
   "source": [
    "X = df.iloc[:,1:].values\n",
    "y = np.log(df.iloc[:,0].values)"
   ]
  },
  {
   "cell_type": "code",
   "execution_count": 10,
   "metadata": {},
   "outputs": [],
   "source": [
    "X_92 = df_92.iloc[:,1:].values\n",
    "y_92 = np.log(df_92.iloc[:,0].values)"
   ]
  },
  {
   "cell_type": "code",
   "execution_count": 13,
   "metadata": {},
   "outputs": [],
   "source": [
    "# model fo prod 93\n",
    "alpha = 1\n",
    "ridge_lr = Ridge(alpha=alpha)\n",
    "ridge_lr.fit(X, y)\n",
    "y_pred = ridge_lr.predict(X)\n",
    "r2 = r2_score(y, y_pred)\n",
    "coefficients = ridge_lr.coef_.flatten()\n",
    "intercept = ridge_lr.intercept_.flatten()\n",
    "cocept = np.concatenate((coefficients, intercept))"
   ]
  },
  {
   "cell_type": "code",
   "execution_count": 17,
   "metadata": {},
   "outputs": [],
   "source": [
    "# prod 2\n",
    "alpha = 1\n",
    "ridge_lr_92 = Ridge(alpha=alpha)\n",
    "ridge_lr_92.fit(X_92, y_92)\n",
    "y_pred_92 = ridge_lr_92.predict(X_92)\n",
    "r2_92 = r2_score(y_92, y_pred_92)\n",
    "coefficients_92 = ridge_lr_92.coef_.flatten()\n",
    "intercept_92 = ridge_lr_92.intercept_.flatten()\n",
    "cocept_92 = np.concatenate((coefficients_92, intercept_92))"
   ]
  },
  {
   "cell_type": "code",
   "execution_count": 15,
   "metadata": {},
   "outputs": [],
   "source": [
    "vars = ['price', 'seas_index', 'Christmas',\n",
    "       'Easter', 'Halloween', 'Labor Day', 'Memorial Day', 'National Day',\n",
    "       'New Year', 'Pre Easter', 'Pre Super Bowl', 'Super Bowl',\n",
    "       'Display_Amount', 'Facebook_Banner_Amount', 'Flyer_Amount',\n",
    "       'Google_Paid_Search_Amount','reach_radio','reach_tv','intercept']"
   ]
  },
  {
   "cell_type": "code",
   "execution_count": 16,
   "metadata": {},
   "outputs": [
    {
     "name": "stdout",
     "output_type": "stream",
     "text": [
      "price: -0.11325817094752172\n",
      "seas_index: 0.4984688327174238\n",
      "Christmas: 0.950903010076776\n",
      "Easter: -0.07773973210225521\n",
      "Halloween: 0.3051065067094907\n",
      "Labor Day: 0.049005971898467976\n",
      "Memorial Day: 0.00958671627263522\n",
      "National Day: 0.2832497197742369\n",
      "New Year: 0.26410255504631003\n",
      "Pre Easter: 0.1891619130887241\n",
      "Pre Super Bowl: 0.5771468130097844\n",
      "Super Bowl: 0.4404174739735849\n",
      "Display_Amount: 0.32288839999093105\n",
      "Facebook_Banner_Amount: 3.235173110446992e-08\n",
      "Flyer_Amount: 0.3260940584170915\n",
      "Google_Paid_Search_Amount: 0.00012324499518465948\n",
      "reach_radio: 0.5476260429454609\n",
      "reach_tv: 0.7849884213812237\n",
      "intercept: 5.469097352287302\n",
      "\n",
      "R-squared score for Ridge regression with alpha=1: 0.9419\n",
      "RMSE: 0.22157335448230148\n"
     ]
    }
   ],
   "source": [
    "# Product 93\n",
    "for var,c in zip(vars,cocept):\n",
    "    print(f\"{var}: {c}\")\n",
    "\n",
    "print()\n",
    "print(f\"R-squared score for Ridge regression with alpha={alpha}: {r2:.4f}\")\n",
    "rmse = np.sqrt(mean_squared_error(y, y_pred))\n",
    "print(\"RMSE:\", rmse)"
   ]
  },
  {
   "cell_type": "code",
   "execution_count": 18,
   "metadata": {},
   "outputs": [
    {
     "name": "stdout",
     "output_type": "stream",
     "text": [
      "price: -0.29434757355856495\n",
      "seas_index: 0.6193939750483463\n",
      "Christmas: 0.21429150262580934\n",
      "Easter: -0.01910359476953922\n",
      "Halloween: 0.054249649816920986\n",
      "Labor Day: 0.0032446443139183168\n",
      "Memorial Day: -0.014553705181494611\n",
      "National Day: 0.21552532504663208\n",
      "New Year: 0.050917780649943865\n",
      "Pre Easter: -0.014352746812039109\n",
      "Pre Super Bowl: 0.10016691882013223\n",
      "Super Bowl: 0.09900776895888566\n",
      "Display_Amount: 0.157912530098452\n",
      "Facebook_Banner_Amount: -8.490483973017744e-07\n",
      "Flyer_Amount: 0.42758441885781384\n",
      "Google_Paid_Search_Amount: 3.766309131842852e-05\n",
      "reach_radio: 0.3422509493159105\n",
      "reach_tv: 0.4157289583783567\n",
      "intercept: 6.894816941776522\n",
      "R-squared score for Ridge regression with alpha=1: 0.9581\n",
      "RMSE: 0.10890508821602594\n"
     ]
    }
   ],
   "source": [
    "# For product 92\n",
    "for var,c in zip(vars,cocept_92):\n",
    "    print(f\"{var}: {c}\")\n",
    "print(f\"R-squared score for Ridge regression with alpha={alpha}: {r2_92:.4f}\")\n",
    "rmse_92 = np.sqrt(mean_squared_error(y_92, y_pred_92))\n",
    "print(\"RMSE:\", rmse_92)\n"
   ]
  },
  {
   "cell_type": "code",
   "execution_count": 21,
   "metadata": {},
   "outputs": [],
   "source": [
    "lst = ['base','price','Display_Amount','Facebook_Banner_Amount','Flyer_Amount','Google_Paid_Search_Amount',\n",
    "       'reach_radio', 'reach_tv']\n",
    "\n",
    "dfs = [df, df_92]"
   ]
  },
  {
   "cell_type": "code",
   "execution_count": 22,
   "metadata": {},
   "outputs": [],
   "source": [
    "\"\"\"\n",
    "Calculate duetos for each variable in lst\n",
    "base = 'seas_index', 'Christmas', 'Easter', 'Halloween',\n",
    "       'Labor Day', 'Memorial Day', 'National Day', 'New Year', 'Pre Easter',\n",
    "       'Pre Super Bowl', 'Super Bowl'\n",
    "\n",
    "       (a + base + c) - (a + c) = base\n",
    "\"\"\"\n",
    "dct = {}\n",
    "l = 0 \n",
    "base_vars = ['seas_index', 'Christmas', 'Easter', 'Halloween',\n",
    "       'Labor Day', 'Memorial Day', 'National Day', 'New Year', 'Pre Easter',\n",
    "       'Pre Super Bowl', 'Super Bowl']\n",
    "for idx, z in enumerate(dfs):\n",
    "    for c in lst:\n",
    "        temp_df = z.copy()\n",
    "        if c == \"base\":\n",
    "            temp_df[base_vars] = 0\n",
    "        elif c != \"price\":\n",
    "            temp_df[c] = 0\n",
    "        else:\n",
    "            temp_df[c] = temp_df[c].mean()\n",
    "        Xtemp = temp_df.iloc[:, 1:].values\n",
    "        if l < 8:\n",
    "            y_temp = ridge_lr.predict(Xtemp)\n",
    "            due_to_temp = np.exp(y) - np.exp(y_temp)\n",
    "            ratio_temp = np.exp(y_temp) / np.exp(y)\n",
    "            sum_scaled_due_to_temp = np.sum(ratio_temp * due_to_temp)\n",
    "            dct[(f'df_{idx}', c)] = sum_scaled_due_to_temp\n",
    "        else:\n",
    "            y_temp = ridge_lr_92.predict(Xtemp)\n",
    "            due_to_temp = np.exp(y_92) - np.exp(y_temp)\n",
    "            ratio_temp = np.exp(y_temp) / np.exp(y_92)\n",
    "            sum_scaled_due_to_temp = np.sum(ratio_temp * due_to_temp)\n",
    "            dct[(f'df_{idx}', c)] = sum_scaled_due_to_temp\n",
    "        l += 1"
   ]
  },
  {
   "cell_type": "code",
   "execution_count": 23,
   "metadata": {},
   "outputs": [],
   "source": [
    "lst_roi = ['Display_Amount','Facebook_Banner_Amount', 'Flyer_Amount', \n",
    "           'Google_Paid_Search_Amount','reach_radio', 'reach_tv']\n",
    "p_roi = ['Display_Cost', 'Facebook_Banner_Cost', 'Flyer_Cost',\n",
    "       'Google_Paid_Search_Cost', 'Radio_Cost', 'TV_Cost']"
   ]
  },
  {
   "cell_type": "code",
   "execution_count": 24,
   "metadata": {},
   "outputs": [],
   "source": [
    "dct_roi = {}\n",
    "cost_dfs = [df_cost, df_92_cost]\n",
    "for idx, cost_df in zip(range(2), cost_dfs):\n",
    "    for c,p in zip(lst_roi,p_roi):\n",
    "        roi_temp = dct[(f'df_{idx}', c)]/cost_df[p].sum()\n",
    "        dct_roi[(f'df_{idx}', c)] = roi_temp\n"
   ]
  },
  {
   "cell_type": "code",
   "execution_count": 25,
   "metadata": {},
   "outputs": [
    {
     "data": {
      "text/plain": [
       "{('df_1', 'reach_radio'): 0.43811546209643853,\n",
       " ('df_1', 'Display_Amount'): 0.3030517935193938,\n",
       " ('df_1', 'Flyer_Amount'): 0.28072202813850294,\n",
       " ('df_0', 'reach_radio'): 0.26950702296566975,\n",
       " ('df_1', 'Google_Paid_Search_Amount'): 0.2567686606464265,\n",
       " ('df_1', 'reach_tv'): 0.22371233737466162,\n",
       " ('df_0', 'Google_Paid_Search_Amount'): 0.1887687208901441,\n",
       " ('df_0', 'reach_tv'): 0.1375968192323545,\n",
       " ('df_0', 'Flyer_Amount'): 0.1210097605137095,\n",
       " ('df_0', 'Display_Amount'): 0.046756659935707795,\n",
       " ('df_0', 'Facebook_Banner_Amount'): 0.007641765703743588,\n",
       " ('df_1', 'Facebook_Banner_Amount'): -0.022021513652912012}"
      ]
     },
     "execution_count": 25,
     "metadata": {},
     "output_type": "execute_result"
    }
   ],
   "source": [
    "sorted_dict = {k: v for k, v in sorted(dct_roi.items(), key=lambda item: item[1], reverse=True)}\n",
    "sorted_dict"
   ]
  },
  {
   "cell_type": "code",
   "execution_count": null,
   "metadata": {},
   "outputs": [],
   "source": []
  }
 ],
 "metadata": {
  "kernelspec": {
   "display_name": "Python 3",
   "language": "python",
   "name": "python3"
  },
  "language_info": {
   "codemirror_mode": {
    "name": "ipython",
    "version": 3
   },
   "file_extension": ".py",
   "mimetype": "text/x-python",
   "name": "python",
   "nbconvert_exporter": "python",
   "pygments_lexer": "ipython3",
   "version": "3.11.2"
  },
  "orig_nbformat": 4
 },
 "nbformat": 4,
 "nbformat_minor": 2
}
